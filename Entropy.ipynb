{
 "cells": [
  {
   "cell_type": "code",
   "execution_count": 10,
   "metadata": {},
   "outputs": [],
   "source": [
    "import pandas as pd\n",
    "import numpy as np"
   ]
  },
  {
   "cell_type": "code",
   "execution_count": null,
   "metadata": {},
   "outputs": [
    {
     "name": "stdout",
     "output_type": "stream",
     "text": [
      "Defaulting to user installation because normal site-packages is not writeable\n",
      "Collecting latexify-py\n",
      "  Downloading latexify_py-0.4.4-py3-none-any.whl.metadata (4.2 kB)\n",
      "Collecting dill>=0.3.2 (from latexify-py)\n",
      "  Downloading dill-0.3.9-py3-none-any.whl.metadata (10 kB)\n",
      "Downloading latexify_py-0.4.4-py3-none-any.whl (38 kB)\n",
      "Downloading dill-0.3.9-py3-none-any.whl (119 kB)\n",
      "Installing collected packages: dill, latexify-py\n",
      "Successfully installed dill-0.3.9 latexify-py-0.4.4\n"
     ]
    }
   ],
   "source": [
    "# !pip install latexify-py"
   ]
  },
  {
   "cell_type": "code",
   "execution_count": 11,
   "metadata": {},
   "outputs": [],
   "source": [
    "import latexify"
   ]
  },
  {
   "cell_type": "code",
   "execution_count": 13,
   "metadata": {},
   "outputs": [
    {
     "data": {
      "application/vnd.microsoft.datawrangler.viewer.v0+json": {
       "columns": [
        {
         "name": "index",
         "rawType": "int64",
         "type": "integer"
        },
        {
         "name": "Day",
         "rawType": "object",
         "type": "string"
        },
        {
         "name": "Outlook",
         "rawType": "object",
         "type": "string"
        },
        {
         "name": "Temp",
         "rawType": "object",
         "type": "string"
        },
        {
         "name": "Humidity",
         "rawType": "object",
         "type": "string"
        },
        {
         "name": "Windy",
         "rawType": "object",
         "type": "string"
        },
        {
         "name": "Play",
         "rawType": "object",
         "type": "string"
        }
       ],
       "conversionMethod": "pd.DataFrame",
       "ref": "0e45cc5f-b961-4021-9ae5-437f9e4269c8",
       "rows": [
        [
         "0",
         "D1",
         "Sunny",
         "Hot",
         "High",
         "Weak",
         "No"
        ],
        [
         "1",
         "D2",
         "Sunny",
         "Hot",
         "High",
         "Strong",
         "No"
        ],
        [
         "2",
         "D3",
         "Overcast",
         "Hot",
         "High",
         "Weak",
         "Yes"
        ],
        [
         "3",
         "D4",
         "Rain",
         "Mild",
         "High",
         "Weak",
         "Yes"
        ],
        [
         "4",
         "D5",
         "Rain",
         "Cool",
         "Normal",
         "Weak",
         "Yes"
        ],
        [
         "5",
         "D6",
         "Rain",
         "Cool",
         "Normal",
         "Strong",
         "No"
        ]
       ],
       "shape": {
        "columns": 6,
        "rows": 6
       }
      },
      "text/html": [
       "<div>\n",
       "<style scoped>\n",
       "    .dataframe tbody tr th:only-of-type {\n",
       "        vertical-align: middle;\n",
       "    }\n",
       "\n",
       "    .dataframe tbody tr th {\n",
       "        vertical-align: top;\n",
       "    }\n",
       "\n",
       "    .dataframe thead th {\n",
       "        text-align: right;\n",
       "    }\n",
       "</style>\n",
       "<table border=\"1\" class=\"dataframe\">\n",
       "  <thead>\n",
       "    <tr style=\"text-align: right;\">\n",
       "      <th></th>\n",
       "      <th>Day</th>\n",
       "      <th>Outlook</th>\n",
       "      <th>Temp</th>\n",
       "      <th>Humidity</th>\n",
       "      <th>Windy</th>\n",
       "      <th>Play</th>\n",
       "    </tr>\n",
       "  </thead>\n",
       "  <tbody>\n",
       "    <tr>\n",
       "      <th>0</th>\n",
       "      <td>D1</td>\n",
       "      <td>Sunny</td>\n",
       "      <td>Hot</td>\n",
       "      <td>High</td>\n",
       "      <td>Weak</td>\n",
       "      <td>No</td>\n",
       "    </tr>\n",
       "    <tr>\n",
       "      <th>1</th>\n",
       "      <td>D2</td>\n",
       "      <td>Sunny</td>\n",
       "      <td>Hot</td>\n",
       "      <td>High</td>\n",
       "      <td>Strong</td>\n",
       "      <td>No</td>\n",
       "    </tr>\n",
       "    <tr>\n",
       "      <th>2</th>\n",
       "      <td>D3</td>\n",
       "      <td>Overcast</td>\n",
       "      <td>Hot</td>\n",
       "      <td>High</td>\n",
       "      <td>Weak</td>\n",
       "      <td>Yes</td>\n",
       "    </tr>\n",
       "    <tr>\n",
       "      <th>3</th>\n",
       "      <td>D4</td>\n",
       "      <td>Rain</td>\n",
       "      <td>Mild</td>\n",
       "      <td>High</td>\n",
       "      <td>Weak</td>\n",
       "      <td>Yes</td>\n",
       "    </tr>\n",
       "    <tr>\n",
       "      <th>4</th>\n",
       "      <td>D5</td>\n",
       "      <td>Rain</td>\n",
       "      <td>Cool</td>\n",
       "      <td>Normal</td>\n",
       "      <td>Weak</td>\n",
       "      <td>Yes</td>\n",
       "    </tr>\n",
       "    <tr>\n",
       "      <th>5</th>\n",
       "      <td>D6</td>\n",
       "      <td>Rain</td>\n",
       "      <td>Cool</td>\n",
       "      <td>Normal</td>\n",
       "      <td>Strong</td>\n",
       "      <td>No</td>\n",
       "    </tr>\n",
       "  </tbody>\n",
       "</table>\n",
       "</div>"
      ],
      "text/plain": [
       "  Day   Outlook  Temp Humidity   Windy Play\n",
       "0  D1     Sunny   Hot     High    Weak   No\n",
       "1  D2     Sunny   Hot     High  Strong   No\n",
       "2  D3  Overcast   Hot     High    Weak  Yes\n",
       "3  D4      Rain  Mild     High    Weak  Yes\n",
       "4  D5      Rain  Cool   Normal    Weak  Yes\n",
       "5  D6      Rain  Cool   Normal  Strong   No"
      ]
     },
     "execution_count": 13,
     "metadata": {},
     "output_type": "execute_result"
    }
   ],
   "source": [
    "path = r\"C:\\Users\\Abhay\\Downloads\\weather_data.csv\"\n",
    "df = pd.read_csv(path)\n",
    "df.head(6)"
   ]
  },
  {
   "cell_type": "code",
   "execution_count": 8,
   "metadata": {},
   "outputs": [
    {
     "name": "stdout",
     "output_type": "stream",
     "text": [
      "Formula for evaluating entropy\n"
     ]
    },
    {
     "data": {
      "text/latex": [
       "$$ \\displaystyle \\mathrm{entropy}(p) = -\\mathopen{}\\left( p \\cdot \\log_2 p \\mathclose{}\\right) - \\mathopen{}\\left( 1 - p \\mathclose{}\\right) \\log_2 \\mathopen{}\\left( 1 - p \\mathclose{}\\right) $$"
      ],
      "text/plain": [
       "<latexify.ipython_wrappers.LatexifiedFunction at 0x1e2ee350b60>"
      ]
     },
     "execution_count": 8,
     "metadata": {},
     "output_type": "execute_result"
    }
   ],
   "source": [
    "#latexify Entropy_Play\n",
    "\n",
    "@latexify.function\n",
    "def entropy(p):\n",
    "    return -(p * np.log2(p)) - (1 - p) * np.log2(1 - p)\n",
    "\n",
    "print(\"Formula for evaluating entropy\")\n",
    "entropy\n"
   ]
  },
  {
   "cell_type": "code",
   "execution_count": 14,
   "metadata": {},
   "outputs": [
    {
     "data": {
      "text/plain": [
       "np.float64(0.9402859586706311)"
      ]
     },
     "execution_count": 14,
     "metadata": {},
     "output_type": "execute_result"
    }
   ],
   "source": [
    "Play = df['Play'].value_counts()\n",
    "#find the entropy of the Play column\n",
    "Entropy_Play = 0\n",
    "for i in Play:\n",
    "    Entropy_Play += -(i/len(df)*np.log2(i/len(df)))\n",
    "Entropy_Play    "
   ]
  },
  {
   "cell_type": "markdown",
   "metadata": {},
   "source": [
    "# Outlook"
   ]
  },
  {
   "cell_type": "code",
   "execution_count": 15,
   "metadata": {},
   "outputs": [
    {
     "data": {
      "application/vnd.microsoft.datawrangler.viewer.v0+json": {
       "columns": [
        {
         "name": "Outlook",
         "rawType": "object",
         "type": "string"
        },
        {
         "name": "No",
         "rawType": "int64",
         "type": "integer"
        },
        {
         "name": "Yes",
         "rawType": "int64",
         "type": "integer"
        }
       ],
       "conversionMethod": "pd.DataFrame",
       "ref": "6c2993b2-c40d-4f30-94b0-97e78a8c1aec",
       "rows": [
        [
         "Overcast",
         "0",
         "4"
        ],
        [
         "Rain",
         "2",
         "3"
        ],
        [
         "Sunny",
         "3",
         "2"
        ]
       ],
       "shape": {
        "columns": 2,
        "rows": 3
       }
      },
      "text/html": [
       "<div>\n",
       "<style scoped>\n",
       "    .dataframe tbody tr th:only-of-type {\n",
       "        vertical-align: middle;\n",
       "    }\n",
       "\n",
       "    .dataframe tbody tr th {\n",
       "        vertical-align: top;\n",
       "    }\n",
       "\n",
       "    .dataframe thead th {\n",
       "        text-align: right;\n",
       "    }\n",
       "</style>\n",
       "<table border=\"1\" class=\"dataframe\">\n",
       "  <thead>\n",
       "    <tr style=\"text-align: right;\">\n",
       "      <th>Play</th>\n",
       "      <th>No</th>\n",
       "      <th>Yes</th>\n",
       "    </tr>\n",
       "    <tr>\n",
       "      <th>Outlook</th>\n",
       "      <th></th>\n",
       "      <th></th>\n",
       "    </tr>\n",
       "  </thead>\n",
       "  <tbody>\n",
       "    <tr>\n",
       "      <th>Overcast</th>\n",
       "      <td>0</td>\n",
       "      <td>4</td>\n",
       "    </tr>\n",
       "    <tr>\n",
       "      <th>Rain</th>\n",
       "      <td>2</td>\n",
       "      <td>3</td>\n",
       "    </tr>\n",
       "    <tr>\n",
       "      <th>Sunny</th>\n",
       "      <td>3</td>\n",
       "      <td>2</td>\n",
       "    </tr>\n",
       "  </tbody>\n",
       "</table>\n",
       "</div>"
      ],
      "text/plain": [
       "Play      No  Yes\n",
       "Outlook          \n",
       "Overcast   0    4\n",
       "Rain       2    3\n",
       "Sunny      3    2"
      ]
     },
     "execution_count": 15,
     "metadata": {},
     "output_type": "execute_result"
    }
   ],
   "source": [
    "Outlook = pd.pivot_table(df, index = 'Outlook',columns = 'Play',aggfunc = 'size',fill_value = 0)\n",
    "Outlook"
   ]
  },
  {
   "cell_type": "code",
   "execution_count": 16,
   "metadata": {},
   "outputs": [
    {
     "name": "stdout",
     "output_type": "stream",
     "text": [
      "Play\n",
      "No     0\n",
      "Yes    4\n",
      "Name: Overcast, dtype: int64 4\n",
      "\n",
      " 3\n",
      "\n",
      " 2\n",
      "\n",
      " 4\n"
     ]
    },
    {
     "name": "stderr",
     "output_type": "stream",
     "text": [
      "C:\\Users\\Abhay\\AppData\\Local\\Temp\\ipykernel_19588\\4246610056.py:4: FutureWarning: Series.__getitem__ treating keys as positions is deprecated. In a future version, integer keys will always be treated as labels (consistent with DataFrame behavior). To access a value by position, use `ser.iloc[pos]`\n",
      "  d = Outlook.iloc[2][1] #third row and second element\n"
     ]
    }
   ],
   "source": [
    "a = Outlook.iloc[0] #first row\n",
    "b = Outlook.iloc[0,1] #first row and second element\n",
    "c = Outlook.iloc[1,1] #second row and second element\n",
    "d = Outlook.iloc[2][1] #third row and second element\n",
    "e = Outlook.iloc[0].sum() #sum of first row\n",
    "print(a,b)\n",
    "print('\\n',c)\n",
    "print('\\n',d)\n",
    "print('\\n',e)"
   ]
  },
  {
   "cell_type": "code",
   "execution_count": 17,
   "metadata": {},
   "outputs": [
    {
     "name": "stdout",
     "output_type": "stream",
     "text": [
      "Formula for evaluating entropy\n"
     ]
    },
    {
     "data": {
      "text/latex": [
       "$$ \\displaystyle \\mathrm{entropy\\_class}(\\mathrm{no}, \\mathrm{yes}, \\mathrm{total}) = -\\mathopen{}\\left( \\frac{\\mathrm{no}}{\\mathrm{total}} \\cdot \\log_2 \\mathopen{}\\left( \\frac{\\mathrm{no}}{\\mathrm{total}} \\mathclose{}\\right) \\mathclose{}\\right) - \\frac{\\mathrm{yes}}{\\mathrm{total}} \\cdot \\log_2 \\mathopen{}\\left( \\frac{\\mathrm{yes}}{\\mathrm{total}} \\mathclose{}\\right) $$"
      ],
      "text/plain": [
       "<latexify.ipython_wrappers.LatexifiedFunction at 0x1e2ee2a7650>"
      ]
     },
     "execution_count": 17,
     "metadata": {},
     "output_type": "execute_result"
    }
   ],
   "source": [
    "@latexify.function\n",
    "def entropy_class(no,yes,total):\n",
    "    return -((no/total) * np.log2(no/total)) - (yes/total) * np.log2(yes/total)\n",
    "\n",
    "print(\"Formula for evaluating entropy\")\n",
    "entropy_class\n"
   ]
  },
  {
   "cell_type": "code",
   "execution_count": 18,
   "metadata": {},
   "outputs": [
    {
     "name": "stdout",
     "output_type": "stream",
     "text": [
      "0.24674981977443933\n"
     ]
    },
    {
     "name": "stderr",
     "output_type": "stream",
     "text": [
      "C:\\Users\\Abhay\\AppData\\Local\\Temp\\ipykernel_19588\\2055178482.py:10: FutureWarning: Series.__getitem__ treating keys as positions is deprecated. In a future version, integer keys will always be treated as labels (consistent with DataFrame behavior). To access a value by position, use `ser.iloc[pos]`\n",
      "  Entropy_Outlook_Overcast += -(Outlook.iloc[i][j]/Outlook.iloc[i].sum())*np.log2(Outlook.iloc[i][j]/Outlook.iloc[i].sum())\n",
      "C:\\Users\\Abhay\\AppData\\Local\\Temp\\ipykernel_19588\\2055178482.py:22: FutureWarning: Series.__getitem__ treating keys as positions is deprecated. In a future version, integer keys will always be treated as labels (consistent with DataFrame behavior). To access a value by position, use `ser.iloc[pos]`\n",
      "  Entropy_Outlook_Rainy += -(Outlook.iloc[i][j]/Outlook.iloc[i].sum())*np.log2(Outlook.iloc[i][j]/Outlook.iloc[i].sum())\n",
      "C:\\Users\\Abhay\\AppData\\Local\\Temp\\ipykernel_19588\\2055178482.py:34: FutureWarning: Series.__getitem__ treating keys as positions is deprecated. In a future version, integer keys will always be treated as labels (consistent with DataFrame behavior). To access a value by position, use `ser.iloc[pos]`\n",
      "  Entropy_Outlook_Sunny += -(Outlook.iloc[i][j]/Outlook.iloc[i].sum())*np.log2(Outlook.iloc[i][j]/Outlook.iloc[i].sum())\n"
     ]
    }
   ],
   "source": [
    "#Entropy for Outlook = Overcast\n",
    "\n",
    "Entropy_Outlook_Overcast = 0\n",
    "\n",
    "for i in range(0,1):\n",
    "    for j in range(0,2):\n",
    "        if Outlook.iloc[i,j] == 0:\n",
    "            Entropy_Outlook_Overcast\n",
    "        else:\n",
    "            Entropy_Outlook_Overcast += -(Outlook.iloc[i][j]/Outlook.iloc[i].sum())*np.log2(Outlook.iloc[i][j]/Outlook.iloc[i].sum())\n",
    "Entropy_Outlook_Overcast\n",
    "\n",
    "#Entropy for Outlook = Rainy\n",
    "\n",
    "Entropy_Outlook_Rainy = 0\n",
    "\n",
    "for i in range(1,2):\n",
    "    for j in range(0,2):\n",
    "        if Outlook.iloc[i,j] == 0:\n",
    "            Entropy_Outlook_Rainy\n",
    "        else:\n",
    "            Entropy_Outlook_Rainy += -(Outlook.iloc[i][j]/Outlook.iloc[i].sum())*np.log2(Outlook.iloc[i][j]/Outlook.iloc[i].sum())\n",
    "Entropy_Outlook_Rainy\n",
    "\n",
    "#Entropy for Outlook = Sunny\n",
    "\n",
    "Entropy_Outlook_Sunny = 0\n",
    "\n",
    "for i in range(2,):\n",
    "    for j in range(0,2):\n",
    "        if Outlook.iloc[i,j] == 0:\n",
    "            Entropy_Outlook_Sunny == 0\n",
    "        else:\n",
    "            Entropy_Outlook_Sunny += -(Outlook.iloc[i][j]/Outlook.iloc[i].sum())*np.log2(Outlook.iloc[i][j]/Outlook.iloc[i].sum())\n",
    "Entropy_Outlook_Sunny\n",
    "\n",
    "#Information Gain for Outlook\n",
    "\n",
    "total_Outlook = (Outlook.iloc[1].sum()/len(df))*Entropy_Outlook_Rainy + (Outlook.iloc[2].sum()/len(df))*Entropy_Outlook_Sunny\n",
    "Information_Gain_Outlook = Entropy_Play - total_Outlook\n",
    "print(Information_Gain_Outlook)"
   ]
  },
  {
   "cell_type": "markdown",
   "metadata": {},
   "source": [
    "# Temp"
   ]
  },
  {
   "cell_type": "code",
   "execution_count": 19,
   "metadata": {},
   "outputs": [
    {
     "data": {
      "application/vnd.microsoft.datawrangler.viewer.v0+json": {
       "columns": [
        {
         "name": "Temp",
         "rawType": "object",
         "type": "string"
        },
        {
         "name": "No",
         "rawType": "int64",
         "type": "integer"
        },
        {
         "name": "Yes",
         "rawType": "int64",
         "type": "integer"
        }
       ],
       "conversionMethod": "pd.DataFrame",
       "ref": "3512c6ca-3a5d-48ba-83fd-8a84a2383c64",
       "rows": [
        [
         "Cool",
         "1",
         "3"
        ],
        [
         "Hot",
         "2",
         "2"
        ],
        [
         "Mild",
         "2",
         "4"
        ]
       ],
       "shape": {
        "columns": 2,
        "rows": 3
       }
      },
      "text/html": [
       "<div>\n",
       "<style scoped>\n",
       "    .dataframe tbody tr th:only-of-type {\n",
       "        vertical-align: middle;\n",
       "    }\n",
       "\n",
       "    .dataframe tbody tr th {\n",
       "        vertical-align: top;\n",
       "    }\n",
       "\n",
       "    .dataframe thead th {\n",
       "        text-align: right;\n",
       "    }\n",
       "</style>\n",
       "<table border=\"1\" class=\"dataframe\">\n",
       "  <thead>\n",
       "    <tr style=\"text-align: right;\">\n",
       "      <th>Play</th>\n",
       "      <th>No</th>\n",
       "      <th>Yes</th>\n",
       "    </tr>\n",
       "    <tr>\n",
       "      <th>Temp</th>\n",
       "      <th></th>\n",
       "      <th></th>\n",
       "    </tr>\n",
       "  </thead>\n",
       "  <tbody>\n",
       "    <tr>\n",
       "      <th>Cool</th>\n",
       "      <td>1</td>\n",
       "      <td>3</td>\n",
       "    </tr>\n",
       "    <tr>\n",
       "      <th>Hot</th>\n",
       "      <td>2</td>\n",
       "      <td>2</td>\n",
       "    </tr>\n",
       "    <tr>\n",
       "      <th>Mild</th>\n",
       "      <td>2</td>\n",
       "      <td>4</td>\n",
       "    </tr>\n",
       "  </tbody>\n",
       "</table>\n",
       "</div>"
      ],
      "text/plain": [
       "Play  No  Yes\n",
       "Temp         \n",
       "Cool   1    3\n",
       "Hot    2    2\n",
       "Mild   2    4"
      ]
     },
     "execution_count": 19,
     "metadata": {},
     "output_type": "execute_result"
    }
   ],
   "source": [
    "Temp = pd.pivot_table(df, index = 'Temp',columns = 'Play',aggfunc = 'size',fill_value = 0)\n",
    "Temp"
   ]
  },
  {
   "cell_type": "code",
   "execution_count": 20,
   "metadata": {},
   "outputs": [
    {
     "name": "stderr",
     "output_type": "stream",
     "text": [
      "C:\\Users\\Abhay\\AppData\\Local\\Temp\\ipykernel_19588\\614196872.py:1: FutureWarning: Series.__getitem__ treating keys as positions is deprecated. In a future version, integer keys will always be treated as labels (consistent with DataFrame behavior). To access a value by position, use `ser.iloc[pos]`\n",
      "  Temp.iloc[0][1]\n"
     ]
    },
    {
     "data": {
      "text/plain": [
       "np.int64(3)"
      ]
     },
     "execution_count": 20,
     "metadata": {},
     "output_type": "execute_result"
    }
   ],
   "source": [
    "Temp.iloc[0][1]"
   ]
  },
  {
   "cell_type": "code",
   "execution_count": 21,
   "metadata": {},
   "outputs": [
    {
     "name": "stdout",
     "output_type": "stream",
     "text": [
      "-0.35348413022874947\n"
     ]
    },
    {
     "name": "stderr",
     "output_type": "stream",
     "text": [
      "C:\\Users\\Abhay\\AppData\\Local\\Temp\\ipykernel_19588\\799540173.py:10: FutureWarning: Series.__getitem__ treating keys as positions is deprecated. In a future version, integer keys will always be treated as labels (consistent with DataFrame behavior). To access a value by position, use `ser.iloc[pos]`\n",
      "  Entropy_Temp_Cool += -(Temp.iloc[i][j]/Temp.iloc[i].sum())*np.log2(Temp.iloc[i][j]/Temp.iloc[i].sum())\n",
      "C:\\Users\\Abhay\\AppData\\Local\\Temp\\ipykernel_19588\\799540173.py:22: FutureWarning: Series.__getitem__ treating keys as positions is deprecated. In a future version, integer keys will always be treated as labels (consistent with DataFrame behavior). To access a value by position, use `ser.iloc[pos]`\n",
      "  Entropy_Temp_Hot += -(Temp.iloc[i][j]/Temp.iloc[i].sum())*np.log2(Temp.iloc[i][j]/Temp.iloc[i].sum())\n",
      "C:\\Users\\Abhay\\AppData\\Local\\Temp\\ipykernel_19588\\799540173.py:34: FutureWarning: Series.__getitem__ treating keys as positions is deprecated. In a future version, integer keys will always be treated as labels (consistent with DataFrame behavior). To access a value by position, use `ser.iloc[pos]`\n",
      "  Entropy_Temp_Mild += -(Temp.iloc[i][j]/Temp.iloc[i].sum())*np.log2(Temp.iloc[i][j]/Temp.iloc[i].sum())\n"
     ]
    }
   ],
   "source": [
    "#Entropy for Temp = Cool\n",
    "\n",
    "Entropy_Temp_Cool = 0\n",
    "\n",
    "for i in range(0,1):\n",
    "    for j in range(0,2):\n",
    "        if Temp.iloc[i,j] == 0:\n",
    "            Entropy_Temp_Cool == 0\n",
    "        else:\n",
    "            Entropy_Temp_Cool += -(Temp.iloc[i][j]/Temp.iloc[i].sum())*np.log2(Temp.iloc[i][j]/Temp.iloc[i].sum())\n",
    "Entropy_Temp_Cool\n",
    "\n",
    "#Entropy for Temp = Hot\n",
    "\n",
    "Entropy_Temp_Hot = 0\n",
    "\n",
    "for i in range(1,2):\n",
    "    for j in range(0,2):\n",
    "        if Temp.iloc[i,j] == 0:\n",
    "            Entropy_Temp_Hot == 0\n",
    "        else:\n",
    "            Entropy_Temp_Hot += -(Temp.iloc[i][j]/Temp.iloc[i].sum())*np.log2(Temp.iloc[i][j]/Temp.iloc[i].sum())\n",
    "Entropy_Temp_Hot\n",
    "\n",
    "#Entropy for Temp = Mild\n",
    "\n",
    "Entropy_Temp_Mild = 0\n",
    "\n",
    "for i in range(2,):\n",
    "    for j in range(0,2):\n",
    "        if Temp.iloc[i,j] == 0:\n",
    "            Entropy_Temp_Mild == 0\n",
    "        else:\n",
    "            Entropy_Temp_Mild += -(Temp.iloc[i][j]/Temp.iloc[i].sum())*np.log2(Temp.iloc[i][j]/Temp.iloc[i].sum())\n",
    "Entropy_Temp_Mild\n",
    "\n",
    "total_Temp = (Temp.iloc[0].sum()/len(df))*Entropy_Temp_Cool + (Temp.iloc[1].sum()/len(df))*Entropy_Temp_Hot + (Temp.iloc[2].sum()/len(df))*Entropy_Temp_Mild\n",
    "total_Temp\n",
    "\n",
    "Information_Gain_Temp = Entropy_Play - total_Temp\n",
    "print(Information_Gain_Temp)"
   ]
  },
  {
   "cell_type": "markdown",
   "metadata": {},
   "source": [
    "# Humidity"
   ]
  },
  {
   "cell_type": "code",
   "execution_count": 22,
   "metadata": {},
   "outputs": [
    {
     "data": {
      "application/vnd.microsoft.datawrangler.viewer.v0+json": {
       "columns": [
        {
         "name": "Humidity",
         "rawType": "object",
         "type": "string"
        },
        {
         "name": "No",
         "rawType": "int64",
         "type": "integer"
        },
        {
         "name": "Yes",
         "rawType": "int64",
         "type": "integer"
        }
       ],
       "conversionMethod": "pd.DataFrame",
       "ref": "057dfd4d-c17a-4152-845c-a6e508a504e5",
       "rows": [
        [
         "High",
         "4",
         "3"
        ],
        [
         "Normal",
         "1",
         "6"
        ]
       ],
       "shape": {
        "columns": 2,
        "rows": 2
       }
      },
      "text/html": [
       "<div>\n",
       "<style scoped>\n",
       "    .dataframe tbody tr th:only-of-type {\n",
       "        vertical-align: middle;\n",
       "    }\n",
       "\n",
       "    .dataframe tbody tr th {\n",
       "        vertical-align: top;\n",
       "    }\n",
       "\n",
       "    .dataframe thead th {\n",
       "        text-align: right;\n",
       "    }\n",
       "</style>\n",
       "<table border=\"1\" class=\"dataframe\">\n",
       "  <thead>\n",
       "    <tr style=\"text-align: right;\">\n",
       "      <th>Play</th>\n",
       "      <th>No</th>\n",
       "      <th>Yes</th>\n",
       "    </tr>\n",
       "    <tr>\n",
       "      <th>Humidity</th>\n",
       "      <th></th>\n",
       "      <th></th>\n",
       "    </tr>\n",
       "  </thead>\n",
       "  <tbody>\n",
       "    <tr>\n",
       "      <th>High</th>\n",
       "      <td>4</td>\n",
       "      <td>3</td>\n",
       "    </tr>\n",
       "    <tr>\n",
       "      <th>Normal</th>\n",
       "      <td>1</td>\n",
       "      <td>6</td>\n",
       "    </tr>\n",
       "  </tbody>\n",
       "</table>\n",
       "</div>"
      ],
      "text/plain": [
       "Play      No  Yes\n",
       "Humidity         \n",
       "High       4    3\n",
       "Normal     1    6"
      ]
     },
     "execution_count": 22,
     "metadata": {},
     "output_type": "execute_result"
    }
   ],
   "source": [
    "Humidity = pd.pivot_table(df, index = 'Humidity',columns = 'Play',aggfunc = 'size',fill_value = 0)\n",
    "Humidity"
   ]
  },
  {
   "cell_type": "code",
   "execution_count": 23,
   "metadata": {},
   "outputs": [
    {
     "name": "stdout",
     "output_type": "stream",
     "text": [
      "0.15183550136234159\n"
     ]
    },
    {
     "name": "stderr",
     "output_type": "stream",
     "text": [
      "C:\\Users\\Abhay\\AppData\\Local\\Temp\\ipykernel_19588\\405252260.py:10: FutureWarning: Series.__getitem__ treating keys as positions is deprecated. In a future version, integer keys will always be treated as labels (consistent with DataFrame behavior). To access a value by position, use `ser.iloc[pos]`\n",
      "  Entropy_Humidity_High += -(Humidity.iloc[i][j]/Humidity.iloc[i].sum())*np.log2(Humidity.iloc[i][j]/Humidity.iloc[i].sum())\n",
      "C:\\Users\\Abhay\\AppData\\Local\\Temp\\ipykernel_19588\\405252260.py:22: FutureWarning: Series.__getitem__ treating keys as positions is deprecated. In a future version, integer keys will always be treated as labels (consistent with DataFrame behavior). To access a value by position, use `ser.iloc[pos]`\n",
      "  Entropy_Humidity_Low += -(Humidity.iloc[i][j]/Humidity.iloc[i].sum())*np.log2(Humidity.iloc[i][j]/Humidity.iloc[i].sum())\n"
     ]
    }
   ],
   "source": [
    "#Entropy for Humidity = High\n",
    "\n",
    "Entropy_Humidity_High = 0\n",
    "\n",
    "for i in range(0,1):\n",
    "    for j in range(0,2):\n",
    "        if Humidity.iloc[i,j] == 0:\n",
    "            Entropy_Humidity_High== 0\n",
    "        else:\n",
    "            Entropy_Humidity_High += -(Humidity.iloc[i][j]/Humidity.iloc[i].sum())*np.log2(Humidity.iloc[i][j]/Humidity.iloc[i].sum())\n",
    "Entropy_Humidity_High\n",
    "\n",
    "#Entropy for Humidity = Low\n",
    "\n",
    "Entropy_Humidity_Low = 0\n",
    "\n",
    "for i in range(1,2):\n",
    "    for j in range(0,2):\n",
    "        if Humidity.iloc[i,j] == 0:\n",
    "            Entropy_Humidity_Low == 0\n",
    "        else:\n",
    "            Entropy_Humidity_Low += -(Humidity.iloc[i][j]/Humidity.iloc[i].sum())*np.log2(Humidity.iloc[i][j]/Humidity.iloc[i].sum())\n",
    "Entropy_Humidity_Low\n",
    "\n",
    "total_Humidity= (Humidity.iloc[0].sum()/len(df))*Entropy_Humidity_High + (Humidity.iloc[1].sum()/len(df))*Entropy_Humidity_Low\n",
    "total_Humidity\n",
    "\n",
    "Information_Gain_Humidity = Entropy_Play - total_Humidity\n",
    "print(Information_Gain_Humidity)"
   ]
  },
  {
   "cell_type": "markdown",
   "metadata": {},
   "source": [
    "# Windy"
   ]
  },
  {
   "cell_type": "code",
   "execution_count": 24,
   "metadata": {},
   "outputs": [
    {
     "data": {
      "application/vnd.microsoft.datawrangler.viewer.v0+json": {
       "columns": [
        {
         "name": "Windy",
         "rawType": "object",
         "type": "string"
        },
        {
         "name": "No",
         "rawType": "int64",
         "type": "integer"
        },
        {
         "name": "Yes",
         "rawType": "int64",
         "type": "integer"
        }
       ],
       "conversionMethod": "pd.DataFrame",
       "ref": "40ecd7ee-513b-4d84-bf78-7dc248325f32",
       "rows": [
        [
         "Strong",
         "3",
         "3"
        ],
        [
         "Weak",
         "2",
         "6"
        ]
       ],
       "shape": {
        "columns": 2,
        "rows": 2
       }
      },
      "text/html": [
       "<div>\n",
       "<style scoped>\n",
       "    .dataframe tbody tr th:only-of-type {\n",
       "        vertical-align: middle;\n",
       "    }\n",
       "\n",
       "    .dataframe tbody tr th {\n",
       "        vertical-align: top;\n",
       "    }\n",
       "\n",
       "    .dataframe thead th {\n",
       "        text-align: right;\n",
       "    }\n",
       "</style>\n",
       "<table border=\"1\" class=\"dataframe\">\n",
       "  <thead>\n",
       "    <tr style=\"text-align: right;\">\n",
       "      <th>Play</th>\n",
       "      <th>No</th>\n",
       "      <th>Yes</th>\n",
       "    </tr>\n",
       "    <tr>\n",
       "      <th>Windy</th>\n",
       "      <th></th>\n",
       "      <th></th>\n",
       "    </tr>\n",
       "  </thead>\n",
       "  <tbody>\n",
       "    <tr>\n",
       "      <th>Strong</th>\n",
       "      <td>3</td>\n",
       "      <td>3</td>\n",
       "    </tr>\n",
       "    <tr>\n",
       "      <th>Weak</th>\n",
       "      <td>2</td>\n",
       "      <td>6</td>\n",
       "    </tr>\n",
       "  </tbody>\n",
       "</table>\n",
       "</div>"
      ],
      "text/plain": [
       "Play    No  Yes\n",
       "Windy          \n",
       "Strong   3    3\n",
       "Weak     2    6"
      ]
     },
     "execution_count": 24,
     "metadata": {},
     "output_type": "execute_result"
    }
   ],
   "source": [
    "Windy = pd.pivot_table(df, index = 'Windy',columns = 'Play',aggfunc = 'size',fill_value = 0)\n",
    "Windy"
   ]
  },
  {
   "cell_type": "code",
   "execution_count": 25,
   "metadata": {},
   "outputs": [
    {
     "name": "stdout",
     "output_type": "stream",
     "text": [
      "0.04812703040826949\n"
     ]
    },
    {
     "name": "stderr",
     "output_type": "stream",
     "text": [
      "C:\\Users\\Abhay\\AppData\\Local\\Temp\\ipykernel_19588\\3485695628.py:10: FutureWarning: Series.__getitem__ treating keys as positions is deprecated. In a future version, integer keys will always be treated as labels (consistent with DataFrame behavior). To access a value by position, use `ser.iloc[pos]`\n",
      "  Entropy_Windy_Strong += -(Windy.iloc[i][j]/Windy.iloc[i].sum())*np.log2(Windy.iloc[i][j]/Windy.iloc[i].sum())\n",
      "C:\\Users\\Abhay\\AppData\\Local\\Temp\\ipykernel_19588\\3485695628.py:22: FutureWarning: Series.__getitem__ treating keys as positions is deprecated. In a future version, integer keys will always be treated as labels (consistent with DataFrame behavior). To access a value by position, use `ser.iloc[pos]`\n",
      "  Entropy_Windy_Weak += -(Windy.iloc[i][j]/Windy.iloc[i].sum())*np.log2(Windy.iloc[i][j]/Windy.iloc[i].sum())\n"
     ]
    }
   ],
   "source": [
    "#Entropy for Windy = Strong\n",
    "\n",
    "Entropy_Windy_Strong = 0\n",
    "\n",
    "for i in range(0,1):\n",
    "    for j in range(0,2):\n",
    "        if Windy.iloc[i,j] == 0:\n",
    "            Entropy_Windy_Strong == 0\n",
    "        else:\n",
    "            Entropy_Windy_Strong += -(Windy.iloc[i][j]/Windy.iloc[i].sum())*np.log2(Windy.iloc[i][j]/Windy.iloc[i].sum())\n",
    "Entropy_Windy_Strong\n",
    "\n",
    "#Entropy for Windy = Weak\n",
    "\n",
    "Entropy_Windy_Weak = 0\n",
    "\n",
    "for i in range(1,2):\n",
    "    for j in range(0,2):\n",
    "        if Windy.iloc[i,j] == 0:\n",
    "            Entropy_Windy_Weak == 0\n",
    "        else:\n",
    "            Entropy_Windy_Weak += -(Windy.iloc[i][j]/Windy.iloc[i].sum())*np.log2(Windy.iloc[i][j]/Windy.iloc[i].sum())\n",
    "\n",
    "Entropy_Windy_Weak\n",
    "\n",
    "total_Windy = (Windy.iloc[0].sum()/len(df))*Entropy_Windy_Strong + (Windy.iloc[1].sum()/len(df))*Entropy_Windy_Weak\n",
    "total_Windy\n",
    "\n",
    "Information_Gain_Windy = Entropy_Play - total_Windy\n",
    "print(Information_Gain_Windy)"
   ]
  },
  {
   "cell_type": "code",
   "execution_count": 26,
   "metadata": {},
   "outputs": [
    {
     "data": {
      "application/vnd.microsoft.datawrangler.viewer.v0+json": {
       "columns": [
        {
         "name": "index",
         "rawType": "object",
         "type": "string"
        },
        {
         "name": "Outlook",
         "rawType": "float64",
         "type": "float"
        },
        {
         "name": "Temp",
         "rawType": "float64",
         "type": "float"
        },
        {
         "name": "Humidity",
         "rawType": "float64",
         "type": "float"
        },
        {
         "name": "Windy",
         "rawType": "float64",
         "type": "float"
        }
       ],
       "conversionMethod": "pd.DataFrame",
       "ref": "89925314-023c-43b4-afc8-e717568e9f7a",
       "rows": [
        [
         "Information Gain",
         "0.24674981977443933",
         "-0.35348413022874947",
         "0.15183550136234159",
         "0.04812703040826949"
        ]
       ],
       "shape": {
        "columns": 4,
        "rows": 1
       }
      },
      "text/html": [
       "<div>\n",
       "<style scoped>\n",
       "    .dataframe tbody tr th:only-of-type {\n",
       "        vertical-align: middle;\n",
       "    }\n",
       "\n",
       "    .dataframe tbody tr th {\n",
       "        vertical-align: top;\n",
       "    }\n",
       "\n",
       "    .dataframe thead th {\n",
       "        text-align: right;\n",
       "    }\n",
       "</style>\n",
       "<table border=\"1\" class=\"dataframe\">\n",
       "  <thead>\n",
       "    <tr style=\"text-align: right;\">\n",
       "      <th></th>\n",
       "      <th>Outlook</th>\n",
       "      <th>Temp</th>\n",
       "      <th>Humidity</th>\n",
       "      <th>Windy</th>\n",
       "    </tr>\n",
       "  </thead>\n",
       "  <tbody>\n",
       "    <tr>\n",
       "      <th>Information Gain</th>\n",
       "      <td>0.24675</td>\n",
       "      <td>-0.353484</td>\n",
       "      <td>0.151836</td>\n",
       "      <td>0.048127</td>\n",
       "    </tr>\n",
       "  </tbody>\n",
       "</table>\n",
       "</div>"
      ],
      "text/plain": [
       "                  Outlook      Temp  Humidity     Windy\n",
       "Information Gain  0.24675 -0.353484  0.151836  0.048127"
      ]
     },
     "execution_count": 26,
     "metadata": {},
     "output_type": "execute_result"
    }
   ],
   "source": [
    "data = {'Outlook':Information_Gain_Outlook,'Temp':Information_Gain_Temp,'Humidity':Information_Gain_Humidity,'Windy':Information_Gain_Windy}\n",
    "ig = pd.DataFrame(data,index = ['Information Gain'])\n",
    "ig"
   ]
  },
  {
   "cell_type": "code",
   "execution_count": 27,
   "metadata": {},
   "outputs": [],
   "source": [
    "import matplotlib.pyplot as plt\n",
    "import seaborn as sns"
   ]
  },
  {
   "cell_type": "code",
   "execution_count": 28,
   "metadata": {},
   "outputs": [
    {
     "data": {
      "image/png": "[encoded data removed]",
      "text/plain": [
       "<Figure size 600x300 with 1 Axes>"
      ]
     },
     "metadata": {},
     "output_type": "display_data"
    }
   ],
   "source": [
    "#shrink bar width\n",
    "plt.figure(figsize = (6,3))\n",
    "sns.barplot(data = ig,orient = 'h')\n",
    "plt.title('Information Gain of all the columns')\n",
    "plt.xlabel('Feature')\n",
    "plt.ylabel('Information Gain')\n",
    "plt.show()"
   ]
  },
  {
   "cell_type": "code",
   "execution_count": 29,
   "metadata": {},
   "outputs": [
    {
     "name": "stdout",
     "output_type": "stream",
     "text": [
      "Something is happening before the function is called.\n",
      "Hello!\n",
      "Something is happening after the function is called.\n"
     ]
    }
   ],
   "source": [
    "def my_decorator(func):\n",
    "    def wrapper():\n",
    "        print(\"Something is happening before the function is called.\")\n",
    "        func()\n",
    "        print(\"Something is happening after the function is called.\")\n",
    "    return wrapper\n",
    "\n",
    "@my_decorator  # This applies the decorator to the function below\n",
    "def say_hello():\n",
    "    print(\"Hello!\")\n",
    "\n",
    "say_hello()\n"
   ]
  },
  {
   "cell_type": "code",
   "execution_count": 28,
   "metadata": {},
   "outputs": [
    {
     "data": {
      "text/latex": [
       "$$ \\displaystyle \\mathrm{gini}(p) = 1 - p^{2} - \\mathopen{}\\left( 1 - p \\mathclose{}\\right)^{2} $$"
      ],
      "text/plain": [
       "<latexify.ipython_wrappers.LatexifiedFunction at 0x20be37b3b50>"
      ]
     },
     "execution_count": 28,
     "metadata": {},
     "output_type": "execute_result"
    }
   ],
   "source": [
    "@latexify.function\n",
    "def gini(p):\n",
    "    return 1 - p**2 - (1 - p)**2\n",
    "gini"
   ]
  },
  {
   "cell_type": "code",
   "execution_count": 27,
   "metadata": {},
   "outputs": [
    {
     "data": {
      "text/plain": [
       "0.2777777777777777"
      ]
     },
     "execution_count": 27,
     "metadata": {},
     "output_type": "execute_result"
    }
   ],
   "source": [
    "1-((5/6)**2+(1/6)**2)"
   ]
  },
  {
   "cell_type": "code",
   "execution_count": 26,
   "metadata": {},
   "outputs": [
    {
     "data": {
      "text/plain": [
       "0.32"
      ]
     },
     "execution_count": 26,
     "metadata": {},
     "output_type": "execute_result"
    }
   ],
   "source": [
    "0.96/3"
   ]
  }
 ],
 "metadata": {
  "kernelspec": {
   "display_name": "Python 3",
   "language": "python",
   "name": "python3"
  },
  "language_info": {
   "codemirror_mode": {
    "name": "ipython",
    "version": 3
   },
   "file_extension": ".py",
   "mimetype": "text/x-python",
   "name": "python",
   "nbconvert_exporter": "python",
   "pygments_lexer": "ipython3",
   "version": "3.12.6"
  }
 },
 "nbformat": 4,
 "nbformat_minor": 2
}
